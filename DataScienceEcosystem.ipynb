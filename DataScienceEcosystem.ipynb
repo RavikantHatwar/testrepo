{
 "cells": [
  {
   "cell_type": "markdown",
   "id": "eb4494c8-e7ae-44e0-a689-04aac845651f",
   "metadata": {
    "tags": []
   },
   "source": [
    "# Data Science Tools and Ecosystem"
   ]
  },
  {
   "cell_type": "markdown",
   "id": "d478f54d-27f8-42f9-b44d-08ffc8bf9095",
   "metadata": {},
   "source": [
    "# In this notebook, Data Science Tools and Ecosystem are summarized."
   ]
  },
  {
   "cell_type": "markdown",
   "id": "fe66cdd5-2e1b-497a-8238-1265e8819e35",
   "metadata": {
    "tags": []
   },
   "source": [
    "## Some of the popular languages that Data Scientists use are:"
   ]
  },
  {
   "cell_type": "markdown",
   "id": "fc0cec42-b3d3-4de4-ad41-4920b87155d4",
   "metadata": {},
   "source": [
    "1. Python\n",
    "2. R\n",
    "3. SCALA\n",
    "4. Julia"
   ]
  },
  {
   "cell_type": "markdown",
   "id": "c00a3e99-5908-46e3-a201-1a6514d9eb04",
   "metadata": {},
   "source": [
    "**Objectives:**\n",
    "- To learn about markdown cell\n",
    "- To learn about code cell\n",
    "- To list popular languages for Data Science\n",
    "- To list commonly used libraries in data science\n",
    "- To learn how to run arithmatic expressions\n",
    "\n"
   ]
  },
  {
   "cell_type": "markdown",
   "id": "3a2bda25-4e04-4de2-8b91-b228d0e1a370",
   "metadata": {
    "tags": []
   },
   "source": [
    "## Some of the commonly used libraries used by Data Scientists include:"
   ]
  },
  {
   "cell_type": "markdown",
   "id": "1e1812d6-6d61-407d-b7b0-e62df0d5d6e7",
   "metadata": {},
   "source": [
    "1. NumPy\n",
    "2. PANDAS\n",
    "3. MatPlotLib\n",
    "4. SciPy"
   ]
  },
  {
   "cell_type": "markdown",
   "id": "fb1bdf4d-03f8-4ef3-91ec-e107af95a992",
   "metadata": {},
   "source": [
    "## Below are a few examples of evaluating arithmetic expressions in Python"
   ]
  },
  {
   "cell_type": "code",
   "execution_count": 3,
   "id": "830bb3fc-a321-4abc-b5e0-d4a7c1e78bf8",
   "metadata": {
    "tags": []
   },
   "outputs": [
    {
     "data": {
      "text/plain": [
       "5"
      ]
     },
     "execution_count": 3,
     "metadata": {},
     "output_type": "execute_result"
    }
   ],
   "source": [
    "2 + 3"
   ]
  },
  {
   "cell_type": "code",
   "execution_count": 4,
   "id": "fb56fe0f-302d-4406-8a06-f4c49115b642",
   "metadata": {
    "tags": []
   },
   "outputs": [
    {
     "data": {
      "text/plain": [
       "20"
      ]
     },
     "execution_count": 4,
     "metadata": {},
     "output_type": "execute_result"
    }
   ],
   "source": [
    "2**2 + 4**2"
   ]
  },
  {
   "cell_type": "code",
   "execution_count": 5,
   "id": "3181f719-9121-4e9b-9fc7-06076ef1c733",
   "metadata": {
    "tags": []
   },
   "outputs": [
    {
     "data": {
      "text/plain": [
       "314.0"
      ]
     },
     "execution_count": 5,
     "metadata": {},
     "output_type": "execute_result"
    }
   ],
   "source": [
    "3.14 * 10 * 10"
   ]
  },
  {
   "cell_type": "code",
   "execution_count": 8,
   "id": "83f2cc48-019d-4580-b0c2-bf89955c74f0",
   "metadata": {
    "tags": []
   },
   "outputs": [
    {
     "data": {
      "text/plain": [
       "17"
      ]
     },
     "execution_count": 8,
     "metadata": {},
     "output_type": "execute_result"
    }
   ],
   "source": [
    "\n",
    "# This a simple arithmetic expression to mutiply then add integers.\n",
    "\n",
    "(3*4)+5"
   ]
  },
  {
   "cell_type": "code",
   "execution_count": 9,
   "id": "9a9768f0-416f-43a5-a0c7-39ca3db27288",
   "metadata": {
    "tags": []
   },
   "outputs": [
    {
     "name": "stdout",
     "output_type": "stream",
     "text": [
      "3.3333333333333335\n"
     ]
    }
   ],
   "source": [
    "# This will convert 200 minutes to hours by diving by 60\n",
    "print(200/60)"
   ]
  },
  {
   "cell_type": "markdown",
   "id": "f1eefc73-4a78-4cd8-bbf1-4c33af414f85",
   "metadata": {},
   "source": [
    "## Author\n",
    "Ravikant B Hatwar"
   ]
  },
  {
   "cell_type": "code",
   "execution_count": null,
   "id": "25cb3a10-bd3e-48ff-8223-852d117641c4",
   "metadata": {},
   "outputs": [],
   "source": []
  }
 ],
 "metadata": {
  "kernelspec": {
   "display_name": "Python",
   "language": "python",
   "name": "conda-env-python-py"
  },
  "language_info": {
   "codemirror_mode": {
    "name": "ipython",
    "version": 3
   },
   "file_extension": ".py",
   "mimetype": "text/x-python",
   "name": "python",
   "nbconvert_exporter": "python",
   "pygments_lexer": "ipython3",
   "version": "3.7.12"
  }
 },
 "nbformat": 4,
 "nbformat_minor": 5
}
